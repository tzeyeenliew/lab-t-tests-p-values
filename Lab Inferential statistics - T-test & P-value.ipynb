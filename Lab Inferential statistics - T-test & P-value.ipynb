{
 "cells": [
  {
   "cell_type": "markdown",
   "id": "741adbca",
   "metadata": {},
   "source": [
    "### Instructions\n",
    "#### We will have another simple example on two sample t test (pooled- when the variances are equal). But this time this is a one sided t-test\n",
    "\n",
    "#### In a packing plant, a machine packs cartons with jars. It is supposed that a new machine will pack faster on the average than the machine currently used. To test that hypothesis, the times it takes each machine to pack ten cartons are recorded. The results, in seconds, are shown in the tables in the file files_for_lab/machine.txt. Assume that there is sufficient evidence to conduct the t test, does the data provide sufficient evidence to show if one machine is better than the other."
   ]
  },
  {
   "cell_type": "code",
   "execution_count": 28,
   "id": "76a039ba",
   "metadata": {},
   "outputs": [],
   "source": [
    "import pandas as pd\n",
    "import math\n",
    "from scipy import stats\n",
    "import numpy as np\n",
    "from scipy.stats import ttest_ind, norm"
   ]
  },
  {
   "cell_type": "code",
   "execution_count": 16,
   "id": "9d52d6b9",
   "metadata": {
    "scrolled": true
   },
   "outputs": [
    {
     "name": "stdout",
     "output_type": "stream",
     "text": [
      "   new_machine  old_machine\n",
      "0         42.1         42.7\n",
      "1         41.0         43.6\n",
      "2         41.3         43.8\n",
      "3         41.8         43.3\n",
      "4         42.4         42.5\n",
      "5         42.8         43.5\n",
      "6         43.2         43.1\n",
      "7         42.3         41.7\n",
      "8         41.8         44.0\n",
      "9         42.7         44.1\n"
     ]
    }
   ],
   "source": [
    "data = {\n",
    "    'new_machine': [42.1, 41, 41.3, 41.8, 42.4, 42.8, 43.2, 42.3, 41.8, 42.7],\n",
    "    'old_machine': [42.7, 43.6, 43.8, 43.3, 42.5, 43.5, 43.1, 41.7, 44, 44.1]\n",
    "}\n",
    "\n",
    "df = pd.DataFrame(data)\n",
    "print(df)"
   ]
  },
  {
   "cell_type": "markdown",
   "id": "32ea2000",
   "metadata": {},
   "source": [
    "#### Hypothesis testing for a one tailed test"
   ]
  },
  {
   "cell_type": "markdown",
   "id": "a8304b3d",
   "metadata": {},
   "source": [
    " (H<sub>0</sub>): Average packing time of new machine ≥ Average packing time of old machine\n",
    "    "
   ]
  },
  {
   "cell_type": "markdown",
   "id": "fbe40c55",
   "metadata": {},
   "source": [
    " (H<sub>1</sub>): Average packing time of new machine < Average packing time of old machine"
   ]
  },
  {
   "cell_type": "code",
   "execution_count": 17,
   "id": "c184ebfc",
   "metadata": {},
   "outputs": [],
   "source": [
    "new_machine: np.array([42.1, 41, 41.3, 41.8, 42.4, 42.8, 43.2, 42.3, 41.8, 42.7])"
   ]
  },
  {
   "cell_type": "code",
   "execution_count": 18,
   "id": "1f23ab5c",
   "metadata": {},
   "outputs": [],
   "source": [
    "old_machine: np.array([42.7, 43.6, 43.8, 43.3, 42.5, 43.5, 43.1, 41.7, 44, 44.1])"
   ]
  },
  {
   "cell_type": "code",
   "execution_count": 19,
   "id": "c30caacf",
   "metadata": {},
   "outputs": [],
   "source": [
    "α = 0.05"
   ]
  },
  {
   "cell_type": "code",
   "execution_count": 29,
   "id": "189b882f",
   "metadata": {},
   "outputs": [
    {
     "data": {
      "text/plain": [
       "Ttest_indResult(statistic=3.3972307061176026, pvalue=0.0032111425007745158)"
      ]
     },
     "execution_count": 29,
     "metadata": {},
     "output_type": "execute_result"
    }
   ],
   "source": [
    "ttest_ind(new_machine, old_machine) #the output provides sufficient evidence to conclude that the average packing time of the machines differ, but not in which direction."
   ]
  },
  {
   "cell_type": "code",
   "execution_count": 26,
   "id": "fd516d9a",
   "metadata": {},
   "outputs": [
    {
     "name": "stdout",
     "output_type": "stream",
     "text": [
      "The data provides sufficient evidence to reject the null hypothesis, which concludes that the new machine is faster than the old machine.\n"
     ]
    }
   ],
   "source": [
    "t_statistic, p_value= stats.ttest_ind(new_machine, old_machine, alternative='less') #the 'alternative' parameter indicates the direction of H1. In this context, we're interested in looking at whether the average packing time of the new machine is less than the average packing time of the old machine. \n",
    "if p_value < alpha:\n",
    "    print(\"The data provides sufficient evidence to reject the null hypothesis, which concludes that the new machine is faster than the old machine.\")\n",
    "else:\n",
    "    print(\"The data does not provide sufficient evidence to reject the null hypothesis, which concludes that the new machine is faster than the old machine.\")"
   ]
  }
 ],
 "metadata": {
  "kernelspec": {
   "display_name": "Python 3 (ipykernel)",
   "language": "python",
   "name": "python3"
  },
  "language_info": {
   "codemirror_mode": {
    "name": "ipython",
    "version": 3
   },
   "file_extension": ".py",
   "mimetype": "text/x-python",
   "name": "python",
   "nbconvert_exporter": "python",
   "pygments_lexer": "ipython3",
   "version": "3.9.13"
  }
 },
 "nbformat": 4,
 "nbformat_minor": 5
}
